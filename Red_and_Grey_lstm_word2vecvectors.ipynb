{
  "nbformat": 4,
  "nbformat_minor": 0,
  "metadata": {
    "colab": {
      "name": "Red_and_Grey_lstm_word2vecvectors.ipynb",
      "provenance": [],
      "collapsed_sections": []
    },
    "kernelspec": {
      "name": "python3",
      "display_name": "Python 3"
    },
    "language_info": {
      "name": "python"
    }
  },
  "cells": [
    {
      "cell_type": "code",
      "metadata": {
        "colab": {
          "base_uri": "https://localhost:8080/"
        },
        "id": "rq1_8mcfeUND",
        "outputId": "0988b281-ee51-49e0-cda1-4f8b8fc0cc21"
      },
      "source": [
        "from google.colab import drive\n",
        "drive.mount('/content/drive/')"
      ],
      "execution_count": null,
      "outputs": [
        {
          "output_type": "stream",
          "name": "stdout",
          "text": [
            "Mounted at /content/drive/\n"
          ]
        }
      ]
    },
    {
      "cell_type": "code",
      "metadata": {
        "id": "D2uSjdYZhyuW"
      },
      "source": [
        "import os\n",
        "os.chdir('/content/drive/My Drive/')"
      ],
      "execution_count": null,
      "outputs": []
    },
    {
      "cell_type": "code",
      "metadata": {
        "id": "tPYs1OqBhzvq"
      },
      "source": [
        "import keras\n",
        "import numpy as np\n",
        "import pandas as pd\n",
        "from keras.preprocessing import sequence\n",
        "from keras.models import Sequential\n",
        "from keras.layers import Dense, Embedding, LSTM,  Dropout\n",
        "from tensorflow.python.keras.preprocessing.text import Tokenizer\n",
        "from tensorflow.python.keras.preprocessing.sequence import pad_sequences\n",
        "import tensorflow as tf"
      ],
      "execution_count": null,
      "outputs": []
    },
    {
      "cell_type": "code",
      "metadata": {
        "colab": {
          "base_uri": "https://localhost:8080/",
          "height": 204
        },
        "id": "py2gSCHwhzyK",
        "outputId": "b7ef6f3e-bd63-4e05-d623-03310a4d2e68"
      },
      "source": [
        "dataset = pd.read_csv('all_comments.csv')\n",
        "dataset = dataset.drop('Unnamed: 0', 1)\n",
        "dataset.head()"
      ],
      "execution_count": null,
      "outputs": [
        {
          "output_type": "execute_result",
          "data": {
            "text/html": [
              "<div>\n",
              "<style scoped>\n",
              "    .dataframe tbody tr th:only-of-type {\n",
              "        vertical-align: middle;\n",
              "    }\n",
              "\n",
              "    .dataframe tbody tr th {\n",
              "        vertical-align: top;\n",
              "    }\n",
              "\n",
              "    .dataframe thead th {\n",
              "        text-align: right;\n",
              "    }\n",
              "</style>\n",
              "<table border=\"1\" class=\"dataframe\">\n",
              "  <thead>\n",
              "    <tr style=\"text-align: right;\">\n",
              "      <th></th>\n",
              "      <th>Review</th>\n",
              "      <th>Rating</th>\n",
              "    </tr>\n",
              "  </thead>\n",
              "  <tbody>\n",
              "    <tr>\n",
              "      <th>0</th>\n",
              "      <td>Yerli ürün üretmemiz gerçekten çok iyi bir şey...</td>\n",
              "      <td>1</td>\n",
              "    </tr>\n",
              "    <tr>\n",
              "      <th>1</th>\n",
              "      <td>Monster teknik servisi çok kaliteli gösterdikl...</td>\n",
              "      <td>1</td>\n",
              "    </tr>\n",
              "    <tr>\n",
              "      <th>2</th>\n",
              "      <td>@gfbbahadir Şirkette 15 mimara 12 inşaat mühen...</td>\n",
              "      <td>1</td>\n",
              "    </tr>\n",
              "    <tr>\n",
              "      <th>3</th>\n",
              "      <td>@gfbbahadir Şirkette 15 mimara 12 inşaat mühen...</td>\n",
              "      <td>1</td>\n",
              "    </tr>\n",
              "    <tr>\n",
              "      <th>4</th>\n",
              "      <td>Arkadaşlar kıyaslama yaptığınızda aynı özellik...</td>\n",
              "      <td>1</td>\n",
              "    </tr>\n",
              "  </tbody>\n",
              "</table>\n",
              "</div>"
            ],
            "text/plain": [
              "                                              Review  Rating\n",
              "0  Yerli ürün üretmemiz gerçekten çok iyi bir şey...       1\n",
              "1  Monster teknik servisi çok kaliteli gösterdikl...       1\n",
              "2  @gfbbahadir Şirkette 15 mimara 12 inşaat mühen...       1\n",
              "3  @gfbbahadir Şirkette 15 mimara 12 inşaat mühen...       1\n",
              "4  Arkadaşlar kıyaslama yaptığınızda aynı özellik...       1"
            ]
          },
          "metadata": {},
          "execution_count": 4
        }
      ]
    },
    {
      "cell_type": "code",
      "metadata": {
        "colab": {
          "base_uri": "https://localhost:8080/"
        },
        "id": "HBk7O7Pehz0u",
        "outputId": "a4c7a349-c63b-44bb-aa59-251de88fa03f"
      },
      "source": [
        "dataset.Rating.unique()"
      ],
      "execution_count": null,
      "outputs": [
        {
          "output_type": "execute_result",
          "data": {
            "text/plain": [
              "array([1, 0, 2])"
            ]
          },
          "metadata": {},
          "execution_count": 5
        }
      ]
    },
    {
      "cell_type": "code",
      "metadata": {
        "id": "iXS-O6Skhz3T"
      },
      "source": [
        "# get all labels and reviews as a list\n",
        "dataset = dataset.sample(frac=1).reset_index(drop=True)\n",
        "target = dataset['Rating'].values.tolist()\n",
        "data = dataset['Review'].values.tolist()"
      ],
      "execution_count": null,
      "outputs": []
    },
    {
      "cell_type": "code",
      "metadata": {
        "id": "F_zyo7GQhz55"
      },
      "source": [
        "seperation = int(len(data) * 0.80)\n",
        "x_train, x_test = data[:seperation], data[seperation:]\n",
        "y_train, y_test = target[:seperation], target[seperation:]"
      ],
      "execution_count": null,
      "outputs": []
    },
    {
      "cell_type": "code",
      "metadata": {
        "colab": {
          "base_uri": "https://localhost:8080/"
        },
        "id": "yAZkyxLRh_Rd",
        "outputId": "ca0b1fa0-74a2-4368-b5a6-489a75d5667f"
      },
      "source": [
        "dataset.shape"
      ],
      "execution_count": null,
      "outputs": [
        {
          "output_type": "execute_result",
          "data": {
            "text/plain": [
              "(265299, 2)"
            ]
          },
          "metadata": {},
          "execution_count": 40
        }
      ]
    },
    {
      "cell_type": "code",
      "metadata": {
        "id": "u2aM1Tq85Fht"
      },
      "source": [
        "from gensim.models import Word2Vec\n",
        "Embedding_dimensions = 100\n",
        "\n",
        "# Creating Word2Vec training dataset.\n",
        "Word2vec_train_data = list(map(lambda x: x.split(), x_train))"
      ],
      "execution_count": null,
      "outputs": []
    },
    {
      "cell_type": "code",
      "metadata": {
        "id": "tct_GTyy5Fkh"
      },
      "source": [
        "# Defining the model and training it.\n",
        "word2vec_model = Word2Vec(Word2vec_train_data,\n",
        "                 size=Embedding_dimensions,\n",
        "                 workers=8,\n",
        "                 min_count=5)\n",
        "\n"
      ],
      "execution_count": null,
      "outputs": []
    },
    {
      "cell_type": "code",
      "metadata": {
        "id": "ogtWN7y65Fm5"
      },
      "source": [
        "# Defining the model input length.\n",
        "input_length = 59\n",
        "\n",
        "from tensorflow.keras.preprocessing.text import Tokenizer\n",
        "from tensorflow.keras.preprocessing.sequence import pad_sequences"
      ],
      "execution_count": null,
      "outputs": []
    },
    {
      "cell_type": "code",
      "metadata": {
        "colab": {
          "base_uri": "https://localhost:8080/"
        },
        "id": "L1zWbULljb9h",
        "outputId": "8ad4d578-65a3-41e9-c43f-161e36103756"
      },
      "source": [
        "vocab_length = 60000\n",
        "\n",
        "tokenizer = Tokenizer(num_words=vocab_length)\n",
        "tokenizer.fit_on_texts(data)\n",
        "tokenizer.num_words = vocab_length\n",
        "print(\"Tokenizer vocab length:\", vocab_length)"
      ],
      "execution_count": null,
      "outputs": [
        {
          "output_type": "stream",
          "name": "stdout",
          "text": [
            "Tokenizer vocab length: 60000\n"
          ]
        }
      ]
    },
    {
      "cell_type": "code",
      "metadata": {
        "id": "vKJfnygmKdWW"
      },
      "source": [
        "# saving tokenizer\n",
        "import pickle\n",
        "\n",
        "with open('/content/drive/My Drive/Red_and_Grey/bilstm_word2vec.pickle', 'wb') as handle:\n",
        "    pickle.dump(tokenizer, handle, protocol=pickle.HIGHEST_PROTOCOL)"
      ],
      "execution_count": null,
      "outputs": []
    },
    {
      "cell_type": "code",
      "metadata": {
        "colab": {
          "base_uri": "https://localhost:8080/"
        },
        "id": "y0fjzQ_K-tFw",
        "outputId": "9c6226dd-f3a1-4043-9fb9-5a5ffd85f3a8"
      },
      "source": [
        "X_train = pad_sequences(tokenizer.texts_to_sequences(x_train), maxlen=input_length)\n",
        "X_test  = pad_sequences(tokenizer.texts_to_sequences(x_test) , maxlen=input_length)\n",
        "\n",
        "print(\"X_train.shape:\", X_train.shape)\n",
        "print(\"X_test.shape :\", X_test.shape)"
      ],
      "execution_count": null,
      "outputs": [
        {
          "output_type": "stream",
          "name": "stdout",
          "text": [
            "X_train.shape: (212239, 59)\n",
            "X_test.shape : (53060, 59)\n"
          ]
        }
      ]
    },
    {
      "cell_type": "code",
      "metadata": {
        "id": "jAedBBzB-1cu"
      },
      "source": [
        "embedding_matrix = np.zeros((vocab_length, Embedding_dimensions))\n",
        "\n",
        "for word, token in tokenizer.word_index.items():\n",
        "    if word2vec_model.wv.__contains__(word):\n",
        "        print(token)\n",
        "        embedding_matrix[token] = word2vec_model.wv.__getitem__(word)\n",
        "\n",
        "print(\"Embedding Matrix Shape:\", embedding_matrix.shape)"
      ],
      "execution_count": null,
      "outputs": []
    },
    {
      "cell_type": "code",
      "metadata": {
        "colab": {
          "base_uri": "https://localhost:8080/"
        },
        "id": "pSWxB9bV_gGI",
        "outputId": "f7085267-b098-4128-d643-6b2c1444b08b"
      },
      "source": [
        "print(\"Embedding Matrix Shape:\", embedding_matrix.shape)"
      ],
      "execution_count": null,
      "outputs": [
        {
          "output_type": "stream",
          "name": "stdout",
          "text": [
            "Embedding Matrix Shape: (60000, 100)\n"
          ]
        }
      ]
    },
    {
      "cell_type": "code",
      "metadata": {
        "id": "zOq364ZHCmMo"
      },
      "source": [
        "model = Sequential()"
      ],
      "execution_count": null,
      "outputs": []
    },
    {
      "cell_type": "code",
      "metadata": {
        "id": "Ps77ffXgGBkC"
      },
      "source": [
        "model.add(Embedding(input_dim = vocab_length,\n",
        "                                output_dim = Embedding_dimensions,\n",
        "                                weights=[embedding_matrix],\n",
        "                                input_length=input_length,\n",
        "                                trainable=False,\n",
        "                                name='embedding_layer'))\n",
        "\n"
      ],
      "execution_count": null,
      "outputs": []
    },
    {
      "cell_type": "code",
      "metadata": {
        "id": "LOm4KpBiGsbZ"
      },
      "source": [
        "# 3-layered LSTM\n",
        "model.add(LSTM(units=16, return_sequences=True))\n",
        "model.add(Dropout(0.2))\n",
        "model.add(LSTM(units=8, return_sequences=True))\n",
        "model.add(Dropout(0.2))\n",
        "model.add(LSTM(units=4, return_sequences=False))\n",
        "model.add(Dropout(0.2))\n",
        "# Dense layer: aka fully connected layer. Consists of one neuron.\n",
        "model.add(Dense(3, activation='softmax'))#sigmoid"
      ],
      "execution_count": null,
      "outputs": []
    },
    {
      "cell_type": "code",
      "metadata": {
        "colab": {
          "base_uri": "https://localhost:8080/"
        },
        "id": "N0-NYIvMGsd5",
        "outputId": "2fc989a6-69cf-490d-f5fc-0b8aa8ad59c2"
      },
      "source": [
        "from tensorflow.keras.optimizers import Adam\n",
        "# Adam optimizer\n",
        "optimizer = Adam(lr=1e-3)"
      ],
      "execution_count": null,
      "outputs": [
        {
          "output_type": "stream",
          "name": "stderr",
          "text": [
            "/usr/local/lib/python3.7/dist-packages/keras/optimizer_v2/optimizer_v2.py:356: UserWarning: The `lr` argument is deprecated, use `learning_rate` instead.\n",
            "  \"The `lr` argument is deprecated, use `learning_rate` instead.\")\n"
          ]
        }
      ]
    },
    {
      "cell_type": "code",
      "metadata": {
        "id": "u8hmUUiyGsgD"
      },
      "source": [
        "# try using different optimizers and different optimizer configs\n",
        "callback = tf.keras.callbacks.EarlyStopping(monitor='val_loss', patience=2)\n",
        "model.compile(loss='categorical_crossentropy',\n",
        "optimizer='adam',\n",
        "metrics=['accuracy'])"
      ],
      "execution_count": null,
      "outputs": []
    },
    {
      "cell_type": "code",
      "metadata": {
        "id": "GmKV2cLAHC0O"
      },
      "source": [
        "x_train_pad = np.array(X_train)\n",
        "y_train = np.array(y_train)\n",
        "x_test_pad = np.array(X_test)\n",
        "y_test = np.array(y_test)\n",
        "\n",
        "x_train_pad = np.array(x_train_pad)\n",
        "y_train = np.array(y_train)\n",
        "x_test_pad = np.array(x_test_pad)\n",
        "y_test = np.array(y_test)"
      ],
      "execution_count": null,
      "outputs": []
    },
    {
      "cell_type": "code",
      "metadata": {
        "id": "slt10YO9HC2n"
      },
      "source": [
        "# Reserve 10,000 samples for validation\n",
        "x_val = x_train_pad[-10000:]\n",
        "y_val = y_train[-10000:]\n",
        "x_train = x_train_pad[:-10000]\n",
        "y_train = y_train[:-10000]"
      ],
      "execution_count": null,
      "outputs": []
    },
    {
      "cell_type": "code",
      "metadata": {
        "id": "Z5vA7yQCHZR_"
      },
      "source": [
        "from tensorflow.keras.utils import to_categorical\n",
        "y_train = to_categorical(y_train, 3)\n",
        "y_test = to_categorical(y_test, 3)\n"
      ],
      "execution_count": null,
      "outputs": []
    },
    {
      "cell_type": "code",
      "metadata": {
        "id": "CnDqBRkTHC4z"
      },
      "source": [
        "y_val = to_categorical(y_val, 3)"
      ],
      "execution_count": null,
      "outputs": []
    },
    {
      "cell_type": "code",
      "metadata": {
        "colab": {
          "base_uri": "https://localhost:8080/"
        },
        "id": "kRat9rnwHfPW",
        "outputId": "1b832f90-a76f-4ea6-b632-5ba8c0031d24"
      },
      "source": [
        "# epoch -> how many times we are going to train our data.\n",
        "# batch_size -> feeding size\n",
        "model.fit(x_train, y_train, epochs=15, batch_size=256,validation_data=(x_val, y_val),callbacks=[callback])"
      ],
      "execution_count": null,
      "outputs": [
        {
          "output_type": "stream",
          "name": "stdout",
          "text": [
            "Epoch 1/15\n",
            "790/790 [==============================] - 82s 97ms/step - loss: 0.3289 - accuracy: 0.8926 - val_loss: 0.2418 - val_accuracy: 0.9009\n",
            "Epoch 2/15\n",
            "790/790 [==============================] - 77s 97ms/step - loss: 0.2461 - accuracy: 0.9080 - val_loss: 0.2135 - val_accuracy: 0.9159\n",
            "Epoch 3/15\n",
            "790/790 [==============================] - 76s 96ms/step - loss: 0.2243 - accuracy: 0.9156 - val_loss: 0.2054 - val_accuracy: 0.9214\n",
            "Epoch 4/15\n",
            "790/790 [==============================] - 77s 97ms/step - loss: 0.2123 - accuracy: 0.9195 - val_loss: 0.1892 - val_accuracy: 0.9260\n",
            "Epoch 5/15\n",
            "790/790 [==============================] - 76s 97ms/step - loss: 0.2046 - accuracy: 0.9226 - val_loss: 0.1815 - val_accuracy: 0.9310\n",
            "Epoch 6/15\n",
            "790/790 [==============================] - 77s 97ms/step - loss: 0.1984 - accuracy: 0.9249 - val_loss: 0.1801 - val_accuracy: 0.9319\n",
            "Epoch 7/15\n",
            "790/790 [==============================] - 77s 97ms/step - loss: 0.1940 - accuracy: 0.9257 - val_loss: 0.1768 - val_accuracy: 0.9315\n",
            "Epoch 8/15\n",
            "790/790 [==============================] - 77s 97ms/step - loss: 0.1911 - accuracy: 0.9269 - val_loss: 0.1751 - val_accuracy: 0.9330\n",
            "Epoch 9/15\n",
            "790/790 [==============================] - 77s 97ms/step - loss: 0.1874 - accuracy: 0.9278 - val_loss: 0.1729 - val_accuracy: 0.9334\n",
            "Epoch 10/15\n",
            "790/790 [==============================] - 77s 97ms/step - loss: 0.1856 - accuracy: 0.9292 - val_loss: 0.1708 - val_accuracy: 0.9346\n",
            "Epoch 11/15\n",
            "790/790 [==============================] - 77s 97ms/step - loss: 0.1833 - accuracy: 0.9302 - val_loss: 0.1704 - val_accuracy: 0.9348\n",
            "Epoch 12/15\n",
            "790/790 [==============================] - 77s 97ms/step - loss: 0.1810 - accuracy: 0.9310 - val_loss: 0.1695 - val_accuracy: 0.9348\n",
            "Epoch 13/15\n",
            "790/790 [==============================] - 76s 97ms/step - loss: 0.1792 - accuracy: 0.9317 - val_loss: 0.1715 - val_accuracy: 0.9355\n",
            "Epoch 14/15\n",
            "790/790 [==============================] - 77s 98ms/step - loss: 0.1782 - accuracy: 0.9318 - val_loss: 0.1688 - val_accuracy: 0.9355\n",
            "Epoch 15/15\n",
            "790/790 [==============================] - 77s 97ms/step - loss: 0.1765 - accuracy: 0.9329 - val_loss: 0.1685 - val_accuracy: 0.9357\n"
          ]
        },
        {
          "output_type": "execute_result",
          "data": {
            "text/plain": [
              "<keras.callbacks.History at 0x7f7c8ed58150>"
            ]
          },
          "metadata": {},
          "execution_count": 32
        }
      ]
    },
    {
      "cell_type": "code",
      "metadata": {
        "colab": {
          "base_uri": "https://localhost:8080/"
        },
        "id": "Gb5PXVAv-ucL",
        "outputId": "55720c0f-1abb-4b63-e7b7-918753d62b4f"
      },
      "source": [
        "print(\"Evaluate on test data\")\n",
        "results = model.evaluate(x_test_pad, y_test)\n",
        "print(\"test loss, test acc:\", results)"
      ],
      "execution_count": null,
      "outputs": [
        {
          "output_type": "stream",
          "name": "stdout",
          "text": [
            "Evaluate on test data\n",
            "1659/1659 [==============================] - 22s 13ms/step - loss: 0.1717 - accuracy: 0.9365\n",
            "test loss, test acc: [0.1717449128627777, 0.9365058541297913]\n"
          ]
        }
      ]
    },
    {
      "cell_type": "code",
      "metadata": {
        "colab": {
          "base_uri": "https://localhost:8080/"
        },
        "id": "WBRu1WJm_zFZ",
        "outputId": "975eb49a-719b-4ac3-f14f-87176b7aef1e"
      },
      "source": [
        "#lstm model #2\n",
        "from keras.layers import Dense, Embedding, LSTM,  Dropout, CuDNNLSTM, Bidirectional, LeakyReLU\n",
        "\n",
        "\n",
        "# 3-layered LSTM\n",
        "model = Sequential()\n",
        "\n",
        "embedding_size = 50 # vector with 50 size for every word\n",
        "\n",
        "# Add embedding layer to our model.\n",
        "# embedding matris size = num_words * embedding_size -> 10.000 * 50\n",
        "model.add(Embedding(input_dim = vocab_length,\n",
        "                                output_dim = Embedding_dimensions,\n",
        "                                weights=[embedding_matrix],\n",
        "                                input_length=input_length,\n",
        "                                trainable=False,\n",
        "                                name='embedding_layer'))\n",
        "model.add(Bidirectional(LSTM(units=16, return_sequences=True)))\n",
        "model.add(Dropout(0.2))\n",
        "model.add(Bidirectional(LSTM(units=8, return_sequences=True)))\n",
        "model.add(Dropout(0.2))\n",
        "model.add(Bidirectional(LSTM(units=4, return_sequences=False)))\n",
        "model.add(Dropout(0.2))\n",
        "# Dense layer: aka fully connected layer. Consists of one neuron.\n",
        "model.add(Dense(3, activation='softmax'))#sigmoid\n",
        "\n",
        "from tensorflow.keras.optimizers import Adam\n",
        "# Adam optimizer\n",
        "optimizer = Adam(learning_rate=1e-3)\n",
        "\n",
        "# try using different optimizers and different optimizer configs\n",
        "callback = tf.keras.callbacks.EarlyStopping(monitor='val_loss', patience=2)\n",
        "model.compile(loss='categorical_crossentropy',\n",
        "optimizer=optimizer,\n",
        "metrics=['accuracy'])\n",
        "\n",
        "\n",
        "\n",
        "\n",
        "# epoch -> how many times we are going to train our data.\n",
        "# batch_size -> feeding size\n",
        "model.fit(x_train, y_train, epochs=15, batch_size=256,validation_data=(x_val, y_val),callbacks=[callback])\n",
        "\n",
        "\n",
        "print(\"Evaluate on test data\")\n",
        "results = model.evaluate(x_test_pad, y_test)\n",
        "print(\"test loss, test acc:\", results)\n"
      ],
      "execution_count": null,
      "outputs": [
        {
          "output_type": "stream",
          "name": "stdout",
          "text": [
            "Epoch 1/15\n",
            "790/790 [==============================] - 150s 179ms/step - loss: 0.2963 - accuracy: 0.8950 - val_loss: 0.1999 - val_accuracy: 0.9246\n",
            "Epoch 2/15\n",
            "790/790 [==============================] - 140s 178ms/step - loss: 0.2130 - accuracy: 0.9190 - val_loss: 0.1824 - val_accuracy: 0.9318\n",
            "Epoch 3/15\n",
            "790/790 [==============================] - 139s 176ms/step - loss: 0.1946 - accuracy: 0.9267 - val_loss: 0.1757 - val_accuracy: 0.9348\n",
            "Epoch 4/15\n",
            "790/790 [==============================] - 140s 177ms/step - loss: 0.1844 - accuracy: 0.9306 - val_loss: 0.1696 - val_accuracy: 0.9362\n",
            "Epoch 5/15\n",
            "790/790 [==============================] - 140s 177ms/step - loss: 0.1776 - accuracy: 0.9336 - val_loss: 0.1705 - val_accuracy: 0.9372\n",
            "Epoch 6/15\n",
            "790/790 [==============================] - 140s 177ms/step - loss: 0.1722 - accuracy: 0.9356 - val_loss: 0.1640 - val_accuracy: 0.9372\n",
            "Epoch 7/15\n",
            "790/790 [==============================] - 140s 177ms/step - loss: 0.1679 - accuracy: 0.9370 - val_loss: 0.1629 - val_accuracy: 0.9383\n",
            "Epoch 8/15\n",
            "790/790 [==============================] - 140s 177ms/step - loss: 0.1650 - accuracy: 0.9382 - val_loss: 0.1612 - val_accuracy: 0.9395\n",
            "Epoch 9/15\n",
            "790/790 [==============================] - 141s 179ms/step - loss: 0.1621 - accuracy: 0.9395 - val_loss: 0.1611 - val_accuracy: 0.9401\n",
            "Epoch 10/15\n",
            "790/790 [==============================] - 140s 177ms/step - loss: 0.1587 - accuracy: 0.9406 - val_loss: 0.1628 - val_accuracy: 0.9405\n",
            "Epoch 11/15\n",
            "790/790 [==============================] - 141s 178ms/step - loss: 0.1560 - accuracy: 0.9415 - val_loss: 0.1589 - val_accuracy: 0.9421\n",
            "Epoch 12/15\n",
            "790/790 [==============================] - 141s 178ms/step - loss: 0.1544 - accuracy: 0.9423 - val_loss: 0.1605 - val_accuracy: 0.9419\n",
            "Epoch 13/15\n",
            "790/790 [==============================] - 141s 178ms/step - loss: 0.1522 - accuracy: 0.9429 - val_loss: 0.1594 - val_accuracy: 0.9413\n",
            "Evaluate on test data\n",
            "1659/1659 [==============================] - 33s 20ms/step - loss: 0.1668 - accuracy: 0.9379\n",
            "test loss, test acc: [0.16680443286895752, 0.9378628134727478]\n"
          ]
        }
      ]
    },
    {
      "cell_type": "code",
      "metadata": {
        "id": "4dSJSzUQJoVa"
      },
      "source": [
        "model.save(\"/content/drive/My Drive/Red_and_Grey/bilstm_word2vec_model.h5\")\n"
      ],
      "execution_count": null,
      "outputs": []
    },
    {
      "cell_type": "code",
      "metadata": {
        "colab": {
          "base_uri": "https://localhost:8080/",
          "height": 130
        },
        "id": "A3bDAgNcKJVj",
        "outputId": "af259202-fa6a-462a-dd50-e95aeb4134c8"
      },
      "source": [
        "https://www.kaggle.com/stoicstatic/twitter-sentiment-analysis-using-word2vec-bilstm"
      ],
      "execution_count": null,
      "outputs": [
        {
          "output_type": "error",
          "ename": "SyntaxError",
          "evalue": "ignored",
          "traceback": [
            "\u001b[0;36m  File \u001b[0;32m\"<ipython-input-84-ec90c98f43ec>\"\u001b[0;36m, line \u001b[0;32m1\u001b[0m\n\u001b[0;31m    https://www.kaggle.com/stoicstatic/twitter-sentiment-analysis-using-word2vec-bilstm\u001b[0m\n\u001b[0m           ^\u001b[0m\n\u001b[0;31mSyntaxError\u001b[0m\u001b[0;31m:\u001b[0m invalid syntax\n"
          ]
        }
      ]
    },
    {
      "cell_type": "markdown",
      "metadata": {
        "id": "WJUJKsvCP1pA"
      },
      "source": [
        "BİLSTM WITH WORD2VEC\n"
      ]
    },
    {
      "cell_type": "code",
      "metadata": {
        "colab": {
          "base_uri": "https://localhost:8080/"
        },
        "id": "c5fDo9OIqNu-",
        "outputId": "33dd48a8-f515-493a-8687-09456c5346f6"
      },
      "source": [
        "from sklearn.model_selection import train_test_split\n",
        "from sklearn.utils import class_weight\n",
        "\n",
        "\n",
        "\n",
        "df, df_val = train_test_split(dataset, test_size=0.20, random_state=42)\n",
        "labels = df[['Review', 'Rating']]\n",
        "classes = sorted(labels.Rating.unique())\n",
        "print(classes)\n",
        "\n",
        "class_weights = class_weight.compute_class_weight('balanced', np.unique(sorted(labels.Rating)), labels.Rating)\n",
        "print(class_weights)\n",
        "\n",
        "class_weight_dict = dict(enumerate(class_weights))\n",
        "print(class_weight_dict)\n"
      ],
      "execution_count": null,
      "outputs": [
        {
          "output_type": "stream",
          "name": "stdout",
          "text": [
            "[0, 1, 2]\n",
            "[3.98907997 0.3793064  8.85546794]\n",
            "{0: 3.9890799736866835, 1: 0.37930640073631255, 2: 8.855467935077398}\n"
          ]
        }
      ]
    },
    {
      "cell_type": "code",
      "metadata": {
        "colab": {
          "base_uri": "https://localhost:8080/",
          "height": 851
        },
        "id": "zi102KKjP_gZ",
        "outputId": "29873219-881b-48a6-c6f8-ffebc586eb32"
      },
      "source": [
        "from keras.layers import Dense, Embedding, LSTM,  Dropout, CuDNNLSTM, Bidirectional, LeakyReLU\n",
        "\n",
        "x_train_pad = np.array(X_train)\n",
        "y_train = np.array(y_train)\n",
        "x_test_pad = np.array(X_test)\n",
        "y_test = np.array(y_test)\n",
        "\n",
        "# 3-layered LSTM\n",
        "model = Sequential()\n",
        "\n",
        "embedding_size = 50 # vector with 50 size for every word\n",
        "\n",
        "model.add(Embedding(input_dim = vocab_length,\n",
        "                                output_dim = Embedding_dimensions,\n",
        "                                weights=[embedding_matrix],\n",
        "                                input_length=input_length,\n",
        "                                trainable=False,\n",
        "                                name='embedding_layer'))\n",
        "\n",
        "# 3-layered LSTM\n",
        "model.add(LSTM(units=16, return_sequences=True))\n",
        "model.add(Dropout(0.2))\n",
        "model.add(LSTM(units=8, return_sequences=True))\n",
        "model.add(Dropout(0.2))\n",
        "model.add(LSTM(units=4, return_sequences=False))\n",
        "model.add(Dropout(0.2))\n",
        "# Dense layer: aka fully connected layer. Consists of one neuron.\n",
        "model.add(Dense(3, activation='softmax'))#sigmoid\n",
        "\n",
        "\n",
        "from tensorflow.keras.optimizers import Adam\n",
        "# Adam optimizer\n",
        "optimizer = Adam(lr=1e-3, decay=1e-6)\n",
        "\n",
        "# try using different optimizers and different optimizer configs\n",
        "callback = tf.keras.callbacks.EarlyStopping(monitor='val_loss', patience=10)\n",
        "model.compile(loss='categorical_crossentropy',\n",
        "optimizer= optimizer,\n",
        "metrics=['accuracy'])\n",
        "\n",
        "\n",
        "# Reserve 10,000 samples for validation\n",
        "x_val = x_train_pad[-10000:]\n",
        "y_val = y_train[-10000:]\n",
        "x_train = x_train_pad[:-10000]\n",
        "y_train = y_train[:-10000]\n",
        "\n",
        "from tensorflow.keras.utils import to_categorical\n",
        "y_train = to_categorical(y_train, 3)\n",
        "y_test = to_categorical(y_test, 3)\n",
        "y_val = to_categorical(y_val, 3)\n",
        "\n",
        "# epoch -> how many times we are going to train our data.\n",
        "# batch_size -> feeding size\n",
        "model.fit(x_train, y_train, epochs=50, batch_size=256,validation_data=(x_val, y_val),callbacks=[callback],class_weight=class_weight_dict)\n",
        "\n",
        "\n",
        "print(\"Evaluate on test data\")\n",
        "results = model.evaluate(x_test_pad, y_test)\n",
        "print(\"test loss, test acc:\", results)\n",
        "\n"
      ],
      "execution_count": null,
      "outputs": [
        {
          "output_type": "stream",
          "name": "stderr",
          "text": [
            "/usr/local/lib/python3.7/dist-packages/keras/optimizer_v2/optimizer_v2.py:356: UserWarning: The `lr` argument is deprecated, use `learning_rate` instead.\n",
            "  \"The `lr` argument is deprecated, use `learning_rate` instead.\")\n"
          ]
        },
        {
          "output_type": "stream",
          "name": "stdout",
          "text": [
            "Epoch 1/50\n",
            "790/790 [==============================] - 84s 101ms/step - loss: 0.7305 - accuracy: 0.7656 - val_loss: 0.5146 - val_accuracy: 0.7852\n",
            "Epoch 2/50\n",
            "790/790 [==============================] - 78s 99ms/step - loss: 0.5922 - accuracy: 0.8217 - val_loss: 0.4458 - val_accuracy: 0.8279\n",
            "Epoch 3/50\n",
            "790/790 [==============================] - 78s 99ms/step - loss: 0.5463 - accuracy: 0.8405 - val_loss: 0.4412 - val_accuracy: 0.8309\n",
            "Epoch 4/50\n",
            "790/790 [==============================] - 79s 99ms/step - loss: 0.5195 - accuracy: 0.8463 - val_loss: 0.3803 - val_accuracy: 0.8581\n",
            "Epoch 5/50\n",
            "790/790 [==============================] - 79s 100ms/step - loss: 0.5030 - accuracy: 0.8516 - val_loss: 0.3509 - val_accuracy: 0.8663\n",
            "Epoch 6/50\n",
            "790/790 [==============================] - 79s 100ms/step - loss: 0.4872 - accuracy: 0.8550 - val_loss: 0.3875 - val_accuracy: 0.8499\n",
            "Epoch 7/50\n",
            "790/790 [==============================] - 79s 100ms/step - loss: 0.4759 - accuracy: 0.8562 - val_loss: 0.3588 - val_accuracy: 0.8609\n",
            "Epoch 8/50\n",
            "790/790 [==============================] - 78s 99ms/step - loss: 0.4668 - accuracy: 0.8558 - val_loss: 0.3399 - val_accuracy: 0.8685\n",
            "Epoch 9/50\n",
            "790/790 [==============================] - 78s 99ms/step - loss: 0.4606 - accuracy: 0.8577 - val_loss: 0.3203 - val_accuracy: 0.8770\n",
            "Epoch 10/50\n",
            "790/790 [==============================] - 79s 100ms/step - loss: 0.4539 - accuracy: 0.8577 - val_loss: 0.3599 - val_accuracy: 0.8629\n",
            "Epoch 11/50\n",
            "790/790 [==============================] - 78s 99ms/step - loss: 0.4463 - accuracy: 0.8600 - val_loss: 0.3066 - val_accuracy: 0.8805\n",
            "Epoch 12/50\n",
            "790/790 [==============================] - 78s 99ms/step - loss: 0.4424 - accuracy: 0.8602 - val_loss: 0.3592 - val_accuracy: 0.8604\n",
            "Epoch 13/50\n",
            " 72/790 [=>............................] - ETA: 1:10 - loss: 0.4313 - accuracy: 0.8620"
          ]
        },
        {
          "output_type": "error",
          "ename": "KeyboardInterrupt",
          "evalue": "ignored",
          "traceback": [
            "\u001b[0;31m---------------------------------------------------------------------------\u001b[0m",
            "\u001b[0;31mKeyboardInterrupt\u001b[0m                         Traceback (most recent call last)",
            "\u001b[0;32m<ipython-input-59-e5eeeaae6440>\u001b[0m in \u001b[0;36m<module>\u001b[0;34m()\u001b[0m\n\u001b[1;32m     53\u001b[0m \u001b[0;31m# epoch -> how many times we are going to train our data.\u001b[0m\u001b[0;34m\u001b[0m\u001b[0;34m\u001b[0m\u001b[0;34m\u001b[0m\u001b[0m\n\u001b[1;32m     54\u001b[0m \u001b[0;31m# batch_size -> feeding size\u001b[0m\u001b[0;34m\u001b[0m\u001b[0;34m\u001b[0m\u001b[0;34m\u001b[0m\u001b[0m\n\u001b[0;32m---> 55\u001b[0;31m \u001b[0mmodel\u001b[0m\u001b[0;34m.\u001b[0m\u001b[0mfit\u001b[0m\u001b[0;34m(\u001b[0m\u001b[0mx_train\u001b[0m\u001b[0;34m,\u001b[0m \u001b[0my_train\u001b[0m\u001b[0;34m,\u001b[0m \u001b[0mepochs\u001b[0m\u001b[0;34m=\u001b[0m\u001b[0;36m50\u001b[0m\u001b[0;34m,\u001b[0m \u001b[0mbatch_size\u001b[0m\u001b[0;34m=\u001b[0m\u001b[0;36m256\u001b[0m\u001b[0;34m,\u001b[0m\u001b[0mvalidation_data\u001b[0m\u001b[0;34m=\u001b[0m\u001b[0;34m(\u001b[0m\u001b[0mx_val\u001b[0m\u001b[0;34m,\u001b[0m \u001b[0my_val\u001b[0m\u001b[0;34m)\u001b[0m\u001b[0;34m,\u001b[0m\u001b[0mcallbacks\u001b[0m\u001b[0;34m=\u001b[0m\u001b[0;34m[\u001b[0m\u001b[0mcallback\u001b[0m\u001b[0;34m]\u001b[0m\u001b[0;34m,\u001b[0m\u001b[0mclass_weight\u001b[0m\u001b[0;34m=\u001b[0m\u001b[0mclass_weight_dict\u001b[0m\u001b[0;34m)\u001b[0m\u001b[0;34m\u001b[0m\u001b[0;34m\u001b[0m\u001b[0m\n\u001b[0m\u001b[1;32m     56\u001b[0m \u001b[0;34m\u001b[0m\u001b[0m\n\u001b[1;32m     57\u001b[0m \u001b[0;34m\u001b[0m\u001b[0m\n",
            "\u001b[0;32m/usr/local/lib/python3.7/dist-packages/keras/engine/training.py\u001b[0m in \u001b[0;36mfit\u001b[0;34m(self, x, y, batch_size, epochs, verbose, callbacks, validation_split, validation_data, shuffle, class_weight, sample_weight, initial_epoch, steps_per_epoch, validation_steps, validation_batch_size, validation_freq, max_queue_size, workers, use_multiprocessing)\u001b[0m\n\u001b[1;32m   1182\u001b[0m                 _r=1):\n\u001b[1;32m   1183\u001b[0m               \u001b[0mcallbacks\u001b[0m\u001b[0;34m.\u001b[0m\u001b[0mon_train_batch_begin\u001b[0m\u001b[0;34m(\u001b[0m\u001b[0mstep\u001b[0m\u001b[0;34m)\u001b[0m\u001b[0;34m\u001b[0m\u001b[0;34m\u001b[0m\u001b[0m\n\u001b[0;32m-> 1184\u001b[0;31m               \u001b[0mtmp_logs\u001b[0m \u001b[0;34m=\u001b[0m \u001b[0mself\u001b[0m\u001b[0;34m.\u001b[0m\u001b[0mtrain_function\u001b[0m\u001b[0;34m(\u001b[0m\u001b[0miterator\u001b[0m\u001b[0;34m)\u001b[0m\u001b[0;34m\u001b[0m\u001b[0;34m\u001b[0m\u001b[0m\n\u001b[0m\u001b[1;32m   1185\u001b[0m               \u001b[0;32mif\u001b[0m \u001b[0mdata_handler\u001b[0m\u001b[0;34m.\u001b[0m\u001b[0mshould_sync\u001b[0m\u001b[0;34m:\u001b[0m\u001b[0;34m\u001b[0m\u001b[0;34m\u001b[0m\u001b[0m\n\u001b[1;32m   1186\u001b[0m                 \u001b[0mcontext\u001b[0m\u001b[0;34m.\u001b[0m\u001b[0masync_wait\u001b[0m\u001b[0;34m(\u001b[0m\u001b[0;34m)\u001b[0m\u001b[0;34m\u001b[0m\u001b[0;34m\u001b[0m\u001b[0m\n",
            "\u001b[0;32m/usr/local/lib/python3.7/dist-packages/tensorflow/python/eager/def_function.py\u001b[0m in \u001b[0;36m__call__\u001b[0;34m(self, *args, **kwds)\u001b[0m\n\u001b[1;32m    883\u001b[0m \u001b[0;34m\u001b[0m\u001b[0m\n\u001b[1;32m    884\u001b[0m       \u001b[0;32mwith\u001b[0m \u001b[0mOptionalXlaContext\u001b[0m\u001b[0;34m(\u001b[0m\u001b[0mself\u001b[0m\u001b[0;34m.\u001b[0m\u001b[0m_jit_compile\u001b[0m\u001b[0;34m)\u001b[0m\u001b[0;34m:\u001b[0m\u001b[0;34m\u001b[0m\u001b[0;34m\u001b[0m\u001b[0m\n\u001b[0;32m--> 885\u001b[0;31m         \u001b[0mresult\u001b[0m \u001b[0;34m=\u001b[0m \u001b[0mself\u001b[0m\u001b[0;34m.\u001b[0m\u001b[0m_call\u001b[0m\u001b[0;34m(\u001b[0m\u001b[0;34m*\u001b[0m\u001b[0margs\u001b[0m\u001b[0;34m,\u001b[0m \u001b[0;34m**\u001b[0m\u001b[0mkwds\u001b[0m\u001b[0;34m)\u001b[0m\u001b[0;34m\u001b[0m\u001b[0;34m\u001b[0m\u001b[0m\n\u001b[0m\u001b[1;32m    886\u001b[0m \u001b[0;34m\u001b[0m\u001b[0m\n\u001b[1;32m    887\u001b[0m       \u001b[0mnew_tracing_count\u001b[0m \u001b[0;34m=\u001b[0m \u001b[0mself\u001b[0m\u001b[0;34m.\u001b[0m\u001b[0mexperimental_get_tracing_count\u001b[0m\u001b[0;34m(\u001b[0m\u001b[0;34m)\u001b[0m\u001b[0;34m\u001b[0m\u001b[0;34m\u001b[0m\u001b[0m\n",
            "\u001b[0;32m/usr/local/lib/python3.7/dist-packages/tensorflow/python/eager/def_function.py\u001b[0m in \u001b[0;36m_call\u001b[0;34m(self, *args, **kwds)\u001b[0m\n\u001b[1;32m    915\u001b[0m       \u001b[0;31m# In this case we have created variables on the first call, so we run the\u001b[0m\u001b[0;34m\u001b[0m\u001b[0;34m\u001b[0m\u001b[0;34m\u001b[0m\u001b[0m\n\u001b[1;32m    916\u001b[0m       \u001b[0;31m# defunned version which is guaranteed to never create variables.\u001b[0m\u001b[0;34m\u001b[0m\u001b[0;34m\u001b[0m\u001b[0;34m\u001b[0m\u001b[0m\n\u001b[0;32m--> 917\u001b[0;31m       \u001b[0;32mreturn\u001b[0m \u001b[0mself\u001b[0m\u001b[0;34m.\u001b[0m\u001b[0m_stateless_fn\u001b[0m\u001b[0;34m(\u001b[0m\u001b[0;34m*\u001b[0m\u001b[0margs\u001b[0m\u001b[0;34m,\u001b[0m \u001b[0;34m**\u001b[0m\u001b[0mkwds\u001b[0m\u001b[0;34m)\u001b[0m  \u001b[0;31m# pylint: disable=not-callable\u001b[0m\u001b[0;34m\u001b[0m\u001b[0;34m\u001b[0m\u001b[0m\n\u001b[0m\u001b[1;32m    918\u001b[0m     \u001b[0;32melif\u001b[0m \u001b[0mself\u001b[0m\u001b[0;34m.\u001b[0m\u001b[0m_stateful_fn\u001b[0m \u001b[0;32mis\u001b[0m \u001b[0;32mnot\u001b[0m \u001b[0;32mNone\u001b[0m\u001b[0;34m:\u001b[0m\u001b[0;34m\u001b[0m\u001b[0;34m\u001b[0m\u001b[0m\n\u001b[1;32m    919\u001b[0m       \u001b[0;31m# Release the lock early so that multiple threads can perform the call\u001b[0m\u001b[0;34m\u001b[0m\u001b[0;34m\u001b[0m\u001b[0;34m\u001b[0m\u001b[0m\n",
            "\u001b[0;32m/usr/local/lib/python3.7/dist-packages/tensorflow/python/eager/function.py\u001b[0m in \u001b[0;36m__call__\u001b[0;34m(self, *args, **kwargs)\u001b[0m\n\u001b[1;32m   3038\u001b[0m        filtered_flat_args) = self._maybe_define_function(args, kwargs)\n\u001b[1;32m   3039\u001b[0m     return graph_function._call_flat(\n\u001b[0;32m-> 3040\u001b[0;31m         filtered_flat_args, captured_inputs=graph_function.captured_inputs)  # pylint: disable=protected-access\n\u001b[0m\u001b[1;32m   3041\u001b[0m \u001b[0;34m\u001b[0m\u001b[0m\n\u001b[1;32m   3042\u001b[0m   \u001b[0;34m@\u001b[0m\u001b[0mproperty\u001b[0m\u001b[0;34m\u001b[0m\u001b[0;34m\u001b[0m\u001b[0m\n",
            "\u001b[0;32m/usr/local/lib/python3.7/dist-packages/tensorflow/python/eager/function.py\u001b[0m in \u001b[0;36m_call_flat\u001b[0;34m(self, args, captured_inputs, cancellation_manager)\u001b[0m\n\u001b[1;32m   1962\u001b[0m       \u001b[0;31m# No tape is watching; skip to running the function.\u001b[0m\u001b[0;34m\u001b[0m\u001b[0;34m\u001b[0m\u001b[0;34m\u001b[0m\u001b[0m\n\u001b[1;32m   1963\u001b[0m       return self._build_call_outputs(self._inference_function.call(\n\u001b[0;32m-> 1964\u001b[0;31m           ctx, args, cancellation_manager=cancellation_manager))\n\u001b[0m\u001b[1;32m   1965\u001b[0m     forward_backward = self._select_forward_and_backward_functions(\n\u001b[1;32m   1966\u001b[0m         \u001b[0margs\u001b[0m\u001b[0;34m,\u001b[0m\u001b[0;34m\u001b[0m\u001b[0;34m\u001b[0m\u001b[0m\n",
            "\u001b[0;32m/usr/local/lib/python3.7/dist-packages/tensorflow/python/eager/function.py\u001b[0m in \u001b[0;36mcall\u001b[0;34m(self, ctx, args, cancellation_manager)\u001b[0m\n\u001b[1;32m    594\u001b[0m               \u001b[0minputs\u001b[0m\u001b[0;34m=\u001b[0m\u001b[0margs\u001b[0m\u001b[0;34m,\u001b[0m\u001b[0;34m\u001b[0m\u001b[0;34m\u001b[0m\u001b[0m\n\u001b[1;32m    595\u001b[0m               \u001b[0mattrs\u001b[0m\u001b[0;34m=\u001b[0m\u001b[0mattrs\u001b[0m\u001b[0;34m,\u001b[0m\u001b[0;34m\u001b[0m\u001b[0;34m\u001b[0m\u001b[0m\n\u001b[0;32m--> 596\u001b[0;31m               ctx=ctx)\n\u001b[0m\u001b[1;32m    597\u001b[0m         \u001b[0;32melse\u001b[0m\u001b[0;34m:\u001b[0m\u001b[0;34m\u001b[0m\u001b[0;34m\u001b[0m\u001b[0m\n\u001b[1;32m    598\u001b[0m           outputs = execute.execute_with_cancellation(\n",
            "\u001b[0;32m/usr/local/lib/python3.7/dist-packages/tensorflow/python/eager/execute.py\u001b[0m in \u001b[0;36mquick_execute\u001b[0;34m(op_name, num_outputs, inputs, attrs, ctx, name)\u001b[0m\n\u001b[1;32m     58\u001b[0m     \u001b[0mctx\u001b[0m\u001b[0;34m.\u001b[0m\u001b[0mensure_initialized\u001b[0m\u001b[0;34m(\u001b[0m\u001b[0;34m)\u001b[0m\u001b[0;34m\u001b[0m\u001b[0;34m\u001b[0m\u001b[0m\n\u001b[1;32m     59\u001b[0m     tensors = pywrap_tfe.TFE_Py_Execute(ctx._handle, device_name, op_name,\n\u001b[0;32m---> 60\u001b[0;31m                                         inputs, attrs, num_outputs)\n\u001b[0m\u001b[1;32m     61\u001b[0m   \u001b[0;32mexcept\u001b[0m \u001b[0mcore\u001b[0m\u001b[0;34m.\u001b[0m\u001b[0m_NotOkStatusException\u001b[0m \u001b[0;32mas\u001b[0m \u001b[0me\u001b[0m\u001b[0;34m:\u001b[0m\u001b[0;34m\u001b[0m\u001b[0;34m\u001b[0m\u001b[0m\n\u001b[1;32m     62\u001b[0m     \u001b[0;32mif\u001b[0m \u001b[0mname\u001b[0m \u001b[0;32mis\u001b[0m \u001b[0;32mnot\u001b[0m \u001b[0;32mNone\u001b[0m\u001b[0;34m:\u001b[0m\u001b[0;34m\u001b[0m\u001b[0;34m\u001b[0m\u001b[0m\n",
            "\u001b[0;31mKeyboardInterrupt\u001b[0m: "
          ]
        }
      ]
    },
    {
      "cell_type": "code",
      "metadata": {
        "id": "3f_LNwNToQ_j"
      },
      "source": [
        ""
      ],
      "execution_count": null,
      "outputs": []
    }
  ]
}